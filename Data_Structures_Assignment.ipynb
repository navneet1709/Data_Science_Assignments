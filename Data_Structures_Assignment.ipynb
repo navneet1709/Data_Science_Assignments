{
  "cells": [
    {
      "cell_type": "markdown",
      "metadata": {},
      "source": [
        "# Data Types and Structures Assignment\n",
        "\n",
        "**Course:** Java + DSA  \n",
        "**Platform:** PwSkills  \n",
        "**Date:** August 22, 2025\n",
        "\n",
        "This notebook contains solutions to both theoretical and practical questions about Python data structures.\n",
        "\n",
        "---"
      ]
    },
    {
      "cell_type": "markdown",
      "metadata": {},
      "source": [
        "## Part 1: Theoretical Questions\n",
        "\n",
        "Below are comprehensive answers to the theoretical questions about data structures."
      ]
    },
    {
      "cell_type": "markdown",
      "metadata": {},
      "source": [
        "### 1. What are data structures, and why are they important?\n",
        "\n",
        "**Answer:**\n",
        "Data structures are organized ways of storing and managing data in computer memory to enable efficient access, modification, and operations. They define the relationship between data elements and the operations that can be performed on them.\n",
        "\n",
        "**Importance:**\n",
        "- **Efficiency:** Enable faster data retrieval and manipulation\n",
        "- **Organization:** Provide systematic ways to organize large amounts of data\n",
        "- **Memory Management:** Optimize memory usage and allocation\n",
        "- **Algorithm Implementation:** Form the foundation for implementing algorithms\n",
        "- **Problem Solving:** Help solve complex computational problems efficiently"
      ]
    },
    {
      "cell_type": "markdown",
      "metadata": {},
      "source": [
        "### 2. Explain the difference between mutable and immutable data types with examples\n",
        "\n",
        "**Answer:**\n",
        "\n",
        "**Mutable Data Types:** Can be changed after creation\n",
        "- **Lists:** `[1, 2, 3]` - can add, remove, or modify elements\n",
        "- **Dictionaries:** `{'name': 'John'}` - can add, remove, or modify key-value pairs\n",
        "- **Sets:** `{1, 2, 3}` - can add or remove elements\n",
        "\n",
        "**Immutable Data Types:** Cannot be changed after creation\n",
        "- **Strings:** `\"Hello\"` - cannot modify characters directly\n",
        "- **Tuples:** `(1, 2, 3)` - cannot modify elements\n",
        "- **Numbers:** `42` - cannot change the value\n",
        "- **Frozensets:** `frozenset({1, 2, 3})` - immutable version of sets"
      ]
    },
    {
      "cell_type": "markdown",
      "metadata": {},
      "source": [
        "### 3. What are the main differences between lists and tuples in Python?\n",
        "\n",
        "**Answer:**\n",
        "\n",
        "| Feature | Lists | Tuples |\n",
        "|---------|-------|--------|\n",
        "| **Mutability** | Mutable (can be changed) | Immutable (cannot be changed) |\n",
        "| **Syntax** | `[1, 2, 3]` | `(1, 2, 3)` |\n",
        "| **Performance** | Slower (more memory overhead) | Faster (less memory overhead) |\n",
        "| **Methods** | Many methods (append, remove, etc.) | Few methods (count, index) |\n",
        "| **Use Case** | Dynamic data that changes | Fixed data that doesn't change |\n",
        "| **Hashable** | No (cannot be dictionary keys) | Yes (can be dictionary keys) |"
      ]
    },
    {
      "cell_type": "markdown",
      "metadata": {},
      "source": [
        "### 4. Describe how dictionaries store data\n",
        "\n",
        "**Answer:**\n",
        "Dictionaries in Python store data as **key-value pairs** using a hash table implementation:\n",
        "\n",
        "- **Keys:** Must be immutable and hashable (strings, numbers, tuples)\n",
        "- **Values:** Can be any data type (mutable or immutable)\n",
        "- **Hash Function:** Converts keys into hash values for fast lookup\n",
        "- **Buckets:** Hash values map to memory locations called buckets\n",
        "- **Collision Handling:** Uses open addressing to handle hash collisions\n",
        "- **Dynamic Resizing:** Automatically resizes when load factor exceeds threshold\n",
        "\n",
        "**Example:** `{'name': 'Alice', 'age': 25}` - 'name' and 'age' are keys, 'Alice' and 25 are values"
      ]
    },
    {
      "cell_type": "markdown",
      "metadata": {},
      "source": [
        "### 5. Why might you use a set instead of a list in Python?\n",
        "\n",
        "**Answer:**\n",
        "Sets are preferred over lists in these scenarios:\n",
        "\n",
        "- **Unique Elements:** Automatically eliminates duplicates\n",
        "- **Fast Membership Testing:** O(1) average time for `in` operations vs O(n) for lists\n",
        "- **Set Operations:** Built-in union, intersection, difference operations\n",
        "- **Mathematical Operations:** When you need mathematical set operations\n",
        "- **Deduplication:** When removing duplicates from data\n",
        "- **Fast Lookups:** When order doesn't matter but fast search is important\n",
        "\n",
        "**Example Use Cases:**\n",
        "- Tracking unique visitors to a website\n",
        "- Finding common elements between datasets\n",
        "- Removing duplicates from user input"
      ]
    },
    {
      "cell_type": "markdown",
      "metadata": {},
      "source": [
        "### 6. What is a string in Python, and how is it different from a list?\n",
        "\n",
        "**Answer:**\n",
        "A **string** is an immutable sequence of characters in Python, enclosed in quotes.\n",
        "\n",
        "**Key Differences:**\n",
        "\n",
        "| Feature | String | List |\n",
        "|---------|--------|------|\n",
        "| **Data Type** | Sequence of characters | Sequence of any objects |\n",
        "| **Mutability** | Immutable | Mutable |\n",
        "| **Syntax** | `\"Hello\"` or `'Hello'` | `['H', 'e', 'l', 'l', 'o']` |\n",
        "| **Operations** | String methods (upper, lower, split) | List methods (append, remove) |\n",
        "| **Memory** | More memory efficient | More memory overhead |\n",
        "| **Indexing** | Character access only | Any object access |\n",
        "\n",
        "**Example:**\n",
        "- String: `\"Python\"` - cannot change individual characters\n",
        "- List: `['P', 'y', 't', 'h', 'o', 'n']` - can modify individual elements"
      ]
    },
    {
      "cell_type": "markdown",
      "metadata": {},
      "source": [
        "### 7. How do tuples ensure data integrity in Python?\n",
        "\n",
        "**Answer:**\n",
        "Tuples ensure data integrity through **immutability**:\n",
        "\n",
        "- **Immutable Structure:** Once created, elements cannot be added, removed, or modified\n",
        "- **Hashable:** Can be used as dictionary keys and set elements\n",
        "- **Thread Safety:** Multiple threads can safely read tuple data simultaneously\n",
        "- **Prevents Accidental Changes:** Protects data from inadvertent modifications\n",
        "- **Reference Integrity:** Object references within tuples remain constant\n",
        "\n",
        "**Use Cases for Data Integrity:**\n",
        "- Configuration settings that shouldn't change\n",
        "- Coordinate pairs (x, y)\n",
        "- Database records\n",
        "- Function return values with multiple items"
      ]
    },
    {
      "cell_type": "markdown",
      "metadata": {},
      "source": [
        "### 8. What is a hash table, and how does it relate to dictionaries in Python?\n",
        "\n",
        "**Answer:**\n",
        "A **hash table** is a data structure that implements an associative array, mapping keys to values using a hash function.\n",
        "\n",
        "**Relationship to Python Dictionaries:**\n",
        "- **Implementation:** Python dictionaries are implemented using hash tables\n",
        "- **Hash Function:** Converts keys into array indices\n",
        "- **Fast Access:** O(1) average time complexity for insertion, deletion, and lookup\n",
        "- **Collision Resolution:** Python uses open addressing with random probing\n",
        "\n",
        "**How it Works:**\n",
        "1. Key is passed through hash function\n",
        "2. Hash value determines storage location\n",
        "3. Value is stored at that location\n",
        "4. Lookup uses same hash function to find value\n",
        "\n",
        "**Benefits:**\n",
        "- Very fast key-based access\n",
        "- Dynamic sizing\n",
        "- Efficient memory usage"
      ]
    },
    {
      "cell_type": "markdown",
      "metadata": {},
      "source": [
        "### 9. Can lists contain different data types in Python?\n",
        "\n",
        "**Answer:**\n",
        "**Yes**, Python lists are **heterogeneous** and can contain elements of different data types.\n",
        "\n",
        "**Examples:**\n",
        "```python\n",
        "mixed_list = [1, \"hello\", 3.14, [1, 2, 3], {'key': 'value'}, True]\n",
        "```\n",
        "\n",
        "**Supported Data Types in Lists:**\n",
        "- Numbers (int, float, complex)\n",
        "- Strings\n",
        "- Booleans\n",
        "- Other lists (nested lists)\n",
        "- Tuples, sets, dictionaries\n",
        "- Functions and objects\n",
        "- None\n",
        "\n",
        "**Advantages:**\n",
        "- Flexibility in data storage\n",
        "- Useful for complex data structures\n",
        "- Can represent real-world entities with multiple attributes"
      ]
    },
    {
      "cell_type": "markdown",
      "metadata": {},
      "source": [
        "### 10. Explain why strings are immutable in Python\n",
        "\n",
        "**Answer:**\n",
        "Strings are immutable in Python for several important reasons:\n",
        "\n",
        "**1. Memory Efficiency:**\n",
        "- String interning: identical strings share memory locations\n",
        "- Reduces memory usage for duplicate strings\n",
        "\n",
        "**2. Thread Safety:**\n",
        "- Multiple threads can safely access strings without synchronization\n",
        "- No risk of one thread modifying a string while another reads it\n",
        "\n",
        "**3. Hashability:**\n",
        "- Immutable strings can be used as dictionary keys\n",
        "- Hash value remains constant throughout string's lifetime\n",
        "\n",
        "**4. Security:**\n",
        "- Prevents accidental or malicious string modifications\n",
        "- Important for passwords, file paths, and configuration\n",
        "\n",
        "**5. Optimization:**\n",
        "- Enables various string optimizations in the interpreter\n",
        "- Simplifies garbage collection"
      ]
    },
    {
      "cell_type": "markdown",
      "metadata": {},
      "source": [
        "### 11. What advantages do dictionaries offer over lists for certain tasks?\n\n**Answer:**\nDictionaries provide significant advantages over lists in specific scenarios:\n\n**1. Fast Key-Based Access:**\n- O(1) average lookup time vs O(n) for lists\n- Direct access using meaningful keys instead of numeric indices\n\n**2. Meaningful Data Relationships:**\n- Key-value pairs represent real-world relationships\n- Self-documenting code with descriptive keys\n\n**3. No Need for Sequential Search:**\n- Direct access eliminates need to iterate through elements\n- Efficient for large datasets\n\n**4. Flexible Keys:**\n- Can use strings, numbers, or tuples as keys\n- More intuitive than remembering numeric positions\n\n**5. Better for Sparse Data:**\n- Only store existing key-value pairs\n- Efficient for data with many missing values\n\n**Example Use Cases:**\n- User profiles: `{'name': 'John', 'age': 25}`\n- Configuration settings\n- Database-like operations\n- Counting occurrences of items"
      ]
    },
    {
      "cell_type": "markdown",
      "metadata": {},
      "source": [
        "### 12. Describe a scenario where using a tuple would be preferable over a list\n\n**Answer:**\n**Scenario: Geographic Coordinate System**\n\n**Use Case:** Storing latitude and longitude coordinates for mapping applications.\n\n**Why Tuple is Better:**\n```python\n# Good: Using tuple for coordinates\nlocation = (40.7128, -74.0060)  # NYC coordinates\n```\n\n**Advantages:**\n1. **Data Integrity:** Coordinates shouldn't change accidentally\n2. **Hashable:** Can be used as dictionary keys for location lookup\n3. **Performance:** Faster creation and access than lists\n4. **Memory Efficient:** Less memory overhead\n5. **Intent Clear:** Immutability signals that data is fixed\n\n**Real-World Applications:**\n- GPS coordinates in navigation systems\n- RGB color values: `(255, 0, 0)` for red\n- Database record keys\n- Configuration parameters that shouldn't change\n- Mathematical points and vectors\n\n**Why Not List:**\n- Risk of accidental modification\n- Cannot be used as dictionary keys\n- Unnecessary mutability overhead"
      ]
    },
    {
      "cell_type": "markdown",
      "metadata": {},
      "source": [
        "### 13. How do sets handle duplicate values in Python?\n\n**Answer:**\nSets automatically **eliminate duplicate values** and maintain only unique elements.\n\n**How it Works:**\n1. **Hash-Based Storage:** Sets use hash tables to store elements\n2. **Duplicate Detection:** When adding an element, Python checks if its hash already exists\n3. **Automatic Removal:** If duplicate found, the new element is ignored\n4. **No Error:** Adding duplicates doesn't raise an error\n\n**Example:**\n```python\nmy_set = {1, 2, 2, 3, 3, 3}\nprint(my_set)  # Output: {1, 2, 3}\n```\n\n**Practical Applications:**\n- Removing duplicates from lists: `list(set(my_list))`\n- Tracking unique visitors\n- Finding unique elements in data\n- Mathematical set operations\n\n**Important Notes:**\n- Order is not guaranteed (though Python 3.7+ maintains insertion order)\n- Only hashable objects can be set elements\n- Very efficient for membership testing"
      ]
    },
    {
      "cell_type": "markdown",
      "metadata": {},
      "source": [
        "### 14. How does the 'in' keyword work differently for lists and dictionaries?\n\n**Answer:**\nThe `in` keyword behaves differently for lists and dictionaries:\n\n**Lists - Searches Values:**\n- Searches through all **elements/values** in the list\n- Time Complexity: **O(n)** - linear search\n- Checks each element sequentially until found\n\n```python\nmy_list = ['apple', 'banana', 'cherry']\nprint('banana' in my_list)  # True - searches values\n```\n\n**Dictionaries - Searches Keys:**\n- Searches through **keys only**, not values\n- Time Complexity: **O(1)** average - hash lookup\n- Uses hash table for fast key lookup\n\n```python\nmy_dict = {'name': 'John', 'age': 25}\nprint('name' in my_dict)    # True - searches keys\nprint('John' in my_dict)    # False - 'John' is a value, not a key\n```\n\n**To Search Dictionary Values:**\n```python\nprint('John' in my_dict.values())  # True - explicitly search values\n```\n\n**Performance Impact:**\n- Lists: Slower for large datasets\n- Dictionaries: Much faster for key lookups"
      ]
    },
    {
      "cell_type": "markdown",
      "metadata": {},
      "source": [
        "### 15. Can you modify the elements of a tuple? Explain why or why not\n\n**Answer:**\n**No, you cannot modify the elements of a tuple** because tuples are **immutable**.\n\n**Why Tuples are Immutable:**\n1. **Design Choice:** Python designed tuples to be immutable for specific use cases\n2. **Memory Optimization:** Immutable objects can be optimized by the interpreter\n3. **Thread Safety:** Multiple threads can safely access tuples simultaneously\n4. **Hashability:** Immutable tuples can be used as dictionary keys\n\n**What You Cannot Do:**\n```python\nmy_tuple = (1, 2, 3)\n# my_tuple[0] = 10  # This will raise TypeError\n# my_tuple.append(4)  # This will raise AttributeError\n```\n\n**Important Exception - Mutable Objects Inside Tuples:**\n```python\ntuple_with_list = ([1, 2], 3, 4)\ntuple_with_list[0].append(3)  # This works! List inside tuple can be modified\nprint(tuple_with_list)  # ([1, 2, 3], 3, 4)\n```\n\n**Key Point:** The tuple structure is immutable, but if it contains mutable objects, those objects can still be modified."
      ]
    },
    {
      "cell_type": "markdown",
      "metadata": {},
      "source": [
        "### 16. What is a nested dictionary, and give an example of its use case?\n\n**Answer:**\nA **nested dictionary** is a dictionary that contains other dictionaries as values, creating a hierarchical data structure.\n\n**Structure:**\n```python\nnested_dict = {\n    'key1': {\n        'subkey1': 'value1',\n        'subkey2': 'value2'\n    },\n    'key2': {\n        'subkey3': 'value3'\n    }\n}\n```\n\n**Real-World Example - Student Database:**\n```python\nstudents = {\n    'student_001': {\n        'name': 'Alice Johnson',\n        'age': 20,\n        'grades': {\n            'math': 95,\n            'science': 88,\n            'english': 92\n        },\n        'contact': {\n            'email': 'alice@email.com',\n            'phone': '123-456-7890'\n        }\n    },\n    'student_002': {\n        'name': 'Bob Smith',\n        'age': 19,\n        'grades': {\n            'math': 87,\n            'science': 94,\n            'english': 85\n        }\n    }\n}\n```\n\n**Use Cases:**\n- Configuration files (JSON-like structures)\n- User profiles with multiple attributes\n- Organizational hierarchies\n- Database-like structures\n- API responses with complex data"
      ]
    },
    {
      "cell_type": "markdown",
      "metadata": {},
      "source": [
        "### 17. Describe the time complexity of accessing elements in a dictionary\n\n**Answer:**\nDictionary element access has the following time complexities:\n\n**Average Case: O(1) - Constant Time**\n- Hash function directly computes the storage location\n- Direct access without searching through elements\n- Most operations (get, set, delete) are very fast\n\n**Worst Case: O(n) - Linear Time**\n- Occurs when many hash collisions happen\n- All keys hash to the same bucket\n- Extremely rare in practice with good hash functions\n\n**Operations and Complexities:**\n\n| Operation | Average | Worst Case |\n|-----------|---------|------------|\n| Access (`dict[key]`) | O(1) | O(n) |\n| Insert (`dict[key] = value`) | O(1) | O(n) |\n| Delete (`del dict[key]`) | O(1) | O(n) |\n| Search (`key in dict`) | O(1) | O(n) |\n\n**Why O(1) Average:**\n- Python uses open addressing with random probing\n- Good hash function distributes keys evenly\n- Automatic resizing maintains low load factor\n- Hash collisions are minimized\n\n**Practical Impact:**\n- Dictionaries are extremely efficient for most real-world use cases\n- Much faster than lists for key-based lookups"
      ]
    },
    {
      "cell_type": "markdown",
      "metadata": {},
      "source": [
        "### 18. In what situations are lists preferred over dictionaries?\n\n**Answer:**\nLists are preferred over dictionaries in these situations:\n\n**1. Ordered Data with Positional Meaning:**\n- When element position matters\n- Sequential data processing\n- Mathematical sequences or arrays\n\n**2. Index-Based Access:**\n- When you need to access elements by numeric position\n- Iterating through elements in order\n- Slicing operations\n\n**3. Homogeneous Data:**\n- When all elements are of the same type\n- Simple collections without key-value relationships\n\n**4. Stack/Queue Operations:**\n- LIFO (Last In, First Out) operations\n- FIFO (First In, First Out) operations\n- Using append() and pop() methods\n\n**5. Mathematical Operations:**\n- Vector operations\n- Matrix representations\n- Numerical computations\n\n**6. Memory Efficiency:**\n- When you don't need key-value mapping overhead\n- Simple sequential storage\n\n**Examples:**\n```python\n# Good use cases for lists:\nshopping_list = ['milk', 'bread', 'eggs']  # Order matters\ncoordinates = [10, 20, 30]  # Positional meaning\ngrades = [85, 92, 78, 95]  # Homogeneous data\nqueue = []  # For append/pop operations\n```"
      ]
    },
    {
      "cell_type": "markdown",
      "metadata": {},
      "source": [
        "### 19. Why are dictionaries considered unordered, and how does that affect data retrieval?\n\n**Answer:**\n**Historical Context:** Dictionaries were traditionally unordered, but this has changed in recent Python versions.\n\n**Python < 3.7:** Truly unordered\n- Hash table implementation didn't preserve insertion order\n- Keys could appear in any order during iteration\n- Order was considered an implementation detail\n\n**Python 3.7+:** Insertion order preserved\n- Dictionaries now maintain insertion order as part of language specification\n- Still considered \"unordered\" conceptually for key-based access\n\n**Impact on Data Retrieval:**\n\n**1. Key-Based Access (Unaffected):**\n```python\nmy_dict = {'name': 'John', 'age': 25}\nprint(my_dict['name'])  # Always works regardless of order\n```\n\n**2. Iteration Order:**\n- **Python < 3.7:** Unpredictable order\n- **Python 3.7+:** Predictable insertion order\n\n**3. Design Implications:**\n- Don't rely on key order for logic\n- Use explicit ordering if sequence matters\n- Focus on key-value relationships, not position\n\n**Best Practices:**\n- Access elements by keys, not by assuming order\n- Use OrderedDict if order is critical (pre-3.7)\n- Consider lists if positional order is important"
      ]
    },
    {
      "cell_type": "markdown",
      "metadata": {},
      "source": [
        "### 20. Explain the difference between a list and a dictionary in terms of data retrieval\n\n**Answer:**\nLists and dictionaries have fundamentally different data retrieval mechanisms:\n\n**LISTS - Index-Based Retrieval:**\n\n**Access Method:** Numeric indices (0, 1, 2, ...)\n```python\nmy_list = ['apple', 'banana', 'cherry']\nfruit = my_list[1]  # Access by position\n```\n\n**Characteristics:**\n- **Time Complexity:** O(1) for index access, O(n) for value search\n- **Order Dependent:** Position determines accessibility\n- **Sequential:** Elements accessed by numerical position\n- **Search:** Must iterate through elements to find specific values\n\n**DICTIONARIES - Key-Based Retrieval:**\n\n**Access Method:** Unique keys (any hashable object)\n```python\nmy_dict = {'name': 'John', 'age': 25, 'city': 'NYC'}\nname = my_dict['name']  # Access by key\n```\n\n**Characteristics:**\n- **Time Complexity:** O(1) average for key-based access\n- **Key Association:** Direct mapping between keys and values\n- **Meaningful Access:** Keys provide semantic meaning\n- **Fast Lookup:** Hash table enables instant key-to-value mapping\n\n**Comparison Table:**\n\n| Feature | List | Dictionary |\n|---------|------|------------|\n| **Access** | `list[index]` | `dict[key]` |\n| **Search Time** | O(n) | O(1) average |\n| **Key Type** | Integer only | Any hashable type |\n| **Order** | Positional | Key-based |\n| **Use Case** | Sequential data | Associative data |"
      ]
    },
    {
      "cell_type": "markdown",
      "metadata": {},
      "source": [
        "---\n\n## Part 2: Practical Questions\n\nBelow are the solutions to all practical coding questions with executable code examples."
      ]
    },
    {
      "cell_type": "markdown",
      "metadata": {},
      "source": [
        "### 1. Write a code to create a string with your name and print it"
      ]
    },
    {
      "cell_type": "code",
      "metadata": {
        "colab": {
          "base_uri": "https://localhost:8080/"
        },
        "executionInfo": {
          "status": "ok"
        }
      },
      "execution_count": null,
      "outputs": [],
      "source": [
        "# Create a string with name and print it\n",
        "name = \"John Doe\"\n",
        "print(name)\n",
        "print(f\"My name is: {name}\")"
      ]
    },
    {
      "cell_type": "markdown",
      "metadata": {},
      "source": [
        "### 2. Write a code to find the length of the string \"Hello World\""
      ]
    },
    {
      "cell_type": "code",
      "metadata": {
        "colab": {
          "base_uri": "https://localhost:8080/"
        },
        "executionInfo": {
          "status": "ok"
        }
      },
      "execution_count": null,
      "outputs": [],
      "source": [
        "# Find the length of the string \"Hello World\"\n",
        "text = \"Hello World\"\n",
        "length = len(text)\n",
        "print(f\"The length of '{text}' is: {length}\")"
      ]
    },
    {
      "cell_type": "markdown",
      "metadata": {},
      "source": [
        "### 3. Write a code to slice the first 3 characters from the string \"Python Programming\""
      ]
    },
    {
      "cell_type": "code",
      "metadata": {
        "colab": {
          "base_uri": "https://localhost:8080/"
        },
        "executionInfo": {
          "status": "ok"
        }
      },
      "execution_count": null,
      "outputs": [],
      "source": [
        "# Slice the first 3 characters from \"Python Programming\"\n",
        "text = \"Python Programming\"\n",
        "first_three = text[:3]\n",
        "print(f\"Original string: {text}\")\n",
        "print(f\"First 3 characters: {first_three}\")"
      ]
    },
    {
      "cell_type": "markdown",
      "metadata": {},
      "source": [
        "### 4. Write a code to convert the string \"hello\" to uppercase"
      ]
    },
    {
      "cell_type": "code",
      "metadata": {
        "colab": {
          "base_uri": "https://localhost:8080/"
        },
        "executionInfo": {
          "status": "ok"
        }
      },
      "execution_count": null,
      "outputs": [],
      "source": [
        "# Convert \"hello\" to uppercase\n",
        "text = \"hello\"\n",
        "uppercase_text = text.upper()\n",
        "print(f\"Original: {text}\")\n",
        "print(f\"Uppercase: {uppercase_text}\")"
      ]
    },
    {
      "cell_type": "markdown",
      "metadata": {},
      "source": [
        "### 5. Write a code to replace the word \"apple\" with \"orange\" in the string \"I like apple\""
      ]
    },
    {
      "cell_type": "code",
      "metadata": {
        "colab": {
          "base_uri": "https://localhost:8080/"
        },
        "executionInfo": {
          "status": "ok"
        }
      },
      "execution_count": null,
      "outputs": [],
      "source": [
        "# Replace \"apple\" with \"orange\" in \"I like apple\"\n",
        "text = \"I like apple\"\n",
        "new_text = text.replace(\"apple\", \"orange\")\n",
        "print(f\"Original: {text}\")\n",
        "print(f\"Modified: {new_text}\")"
      ]
    },
    {
      "cell_type": "markdown",
      "metadata": {},
      "source": [
        "### 6. Write a code to create a list with numbers 1 to 5 and print it"
      ]
    },
    {
      "cell_type": "code",
      "metadata": {
        "colab": {
          "base_uri": "https://localhost:8080/"
        },
        "executionInfo": {
          "status": "ok"
        }
      },
      "execution_count": null,
      "outputs": [],
      "source": [
        "# Create a list with numbers 1 to 5\n",
        "numbers = [1, 2, 3, 4, 5]\n",
        "print(f\"List of numbers: {numbers}\")\n",
        "\n",
        "# Alternative method using range\n",
        "numbers_alt = list(range(1, 6))\n",
        "print(f\"Using range: {numbers_alt}\")"
      ]
    },
    {
      "cell_type": "markdown",
      "metadata": {},
      "source": [
        "### 7. Write a code to append the number 10 to the list [1, 2, 3, 4]"
      ]
    },
    {
      "cell_type": "code",
      "metadata": {
        "colab": {
          "base_uri": "https://localhost:8080/"
        },
        "executionInfo": {
          "status": "ok"
        }
      },
      "execution_count": null,
      "outputs": [],
      "source": [
        "# Append 10 to the list [1, 2, 3, 4]\n",
        "my_list = [1, 2, 3, 4]\n",
        "print(f\"Original list: {my_list}\")\n",
        "\n",
        "my_list.append(10)\n",
        "print(f\"After appending 10: {my_list}\")"
      ]
    },
    {
      "cell_type": "markdown",
      "metadata": {},
      "source": [
        "### 8. Write a code to remove the number 3 from the list [1, 2, 3, 4, 5]"
      ]
    },
    {
      "cell_type": "code",
      "metadata": {
        "colab": {
          "base_uri": "https://localhost:8080/"
        },
        "executionInfo": {
          "status": "ok"
        }
      },
      "execution_count": null,
      "outputs": [],
      "source": [
        "# Remove the number 3 from [1, 2, 3, 4, 5]\n",
        "my_list = [1, 2, 3, 4, 5]\n",
        "print(f\"Original list: {my_list}\")\n",
        "\n",
        "my_list.remove(3)\n",
        "print(f\"After removing 3: {my_list}\")\n",
        "\n",
        "# Alternative methods\n",
        "my_list2 = [1, 2, 3, 4, 5]\n",
        "my_list2.pop(2)  # Remove by index\n",
        "print(f\"Using pop(2): {my_list2}\")"
      ]
    },
    {
      "cell_type": "markdown",
      "metadata": {},
      "source": [
        "### 9. Write a code to access the second element in the list ['a', 'b', 'c', 'd']"
      ]
    },
    {
      "cell_type": "code",
      "metadata": {
        "colab": {
          "base_uri": "https://localhost:8080/"
        },
        "executionInfo": {
          "status": "ok"
        }
      },
      "execution_count": null,
      "outputs": [],
      "source": [
        "# Access the second element in ['a', 'b', 'c', 'd']\n",
        "my_list = ['a', 'b', 'c', 'd']\n",
        "second_element = my_list[1]  # Index 1 for second element\n",
        "print(f\"List: {my_list}\")\n",
        "print(f\"Second element: {second_element}\")\n",
        "print(f\"Second element (index 1): {my_list[1]}\")"
      ]
    },
    {
      "cell_type": "markdown",
      "metadata": {},
      "source": [
        "### 10. Write a code to reverse the list [10, 20, 30, 40, 50]"
      ]
    },
    {
      "cell_type": "code",
      "metadata": {
        "colab": {
          "base_uri": "https://localhost:8080/"
        },
        "executionInfo": {
          "status": "ok"
        }
      },
      "execution_count": null,
      "outputs": [],
      "source": [
        "# Reverse the list [10, 20, 30, 40, 50]\n",
        "my_list = [10, 20, 30, 40, 50]\n",
        "print(f\"Original list: {my_list}\")\n",
        "\n",
        "# Method 1: Using reverse() method (modifies original)\n",
        "my_list_copy1 = my_list.copy()\n",
        "my_list_copy1.reverse()\n",
        "print(f\"Using reverse(): {my_list_copy1}\")\n",
        "\n",
        "# Method 2: Using slicing (creates new list)\n",
        "reversed_list = my_list[::-1]\n",
        "print(f\"Using slicing: {reversed_list}\")\n",
        "\n",
        "# Method 3: Using reversed() function\n",
        "reversed_list2 = list(reversed(my_list))\n",
        "print(f\"Using reversed(): {reversed_list2}\")"
      ]
    },
    {
      "cell_type": "markdown",
      "metadata": {},
      "source": [
        "### 11. Write a code to create a tuple with the elements 100, 200, 300 and print it"
      ]
    },
    {
      "cell_type": "code",
      "metadata": {
        "colab": {
          "base_uri": "https://localhost:8080/"
        },
        "executionInfo": {
          "status": "ok"
        }
      },
      "execution_count": null,
      "outputs": [],
      "source": [
        "# Create a tuple with elements 100, 200, 300\n",
        "my_tuple = (100, 200, 300)\n",
        "print(f\"Tuple: {my_tuple}\")\n",
        "print(f\"Type: {type(my_tuple)}\")\n",
        "\n",
        "# Alternative creation methods\n",
        "my_tuple2 = 100, 200, 300  # Without parentheses\n",
        "print(f\"Without parentheses: {my_tuple2}\")"
      ]
    },
    {
      "cell_type": "markdown",
      "metadata": {},
      "source": [
        "### 12. Write a code to access the second-to-last element of the tuple ('red', 'green', 'blue', 'yellow')"
      ]
    },
    {
      "cell_type": "code",
      "metadata": {
        "colab": {
          "base_uri": "https://localhost:8080/"
        },
        "executionInfo": {
          "status": "ok"
        }
      },
      "execution_count": null,
      "outputs": [],
      "source": [
        "# Access second-to-last element of ('red', 'green', 'blue', 'yellow')\n",
        "colors = ('red', 'green', 'blue', 'yellow')\n",
        "second_to_last = colors[-2]  # -2 index for second-to-last\n",
        "\n",
        "print(f\"Tuple: {colors}\")\n",
        "print(f\"Second-to-last element: {second_to_last}\")\n",
        "print(f\"Index -2: {colors[-2]}\")\n",
        "\n",
        "# Show all negative indexing\n",
        "print(\"\\nNegative indexing:\")\n",
        "for i in range(-len(colors), 0):\n",
        "    print(f\"Index {i}: {colors[i]}\")"
      ]
    },
    {
      "cell_type": "markdown",
      "metadata": {},
      "source": [
        "### 13. Write a code to find the minimum number in the tuple (10, 20, 5, 15)"
      ]
    },
    {
      "cell_type": "code",
      "metadata": {
        "colab": {
          "base_uri": "https://localhost:8080/"
        },
        "executionInfo": {
          "status": "ok"
        }
      },
      "execution_count": null,
      "outputs": [],
      "source": [
        "# Find minimum number in tuple (10, 20, 5, 15)\n",
        "numbers = (10, 20, 5, 15)\n",
        "minimum = min(numbers)\n",
        "\n",
        "print(f\"Tuple: {numbers}\")\n",
        "print(f\"Minimum value: {minimum}\")\n",
        "\n",
        "# Also find maximum for comparison\n",
        "maximum = max(numbers)\n",
        "print(f\"Maximum value: {maximum}\")\n",
        "\n",
        "# Find index of minimum value\n",
        "min_index = numbers.index(minimum)\n",
        "print(f\"Index of minimum value: {min_index}\")"
      ]
    },
    {
      "cell_type": "markdown",
      "metadata": {},
      "source": [
        "### 14. Write a code to find the index of the element \"cat\" in the tuple ('dog', 'cat', 'rabbit')"
      ]
    },
    {
      "cell_type": "code",
      "metadata": {
        "colab": {
          "base_uri": "https://localhost:8080/"
        },
        "executionInfo": {
          "status": "ok"
        }
      },
      "execution_count": null,
      "outputs": [],
      "source": [
        "# Find index of \"cat\" in ('dog', 'cat', 'rabbit')\n",
        "animals = ('dog', 'cat', 'rabbit')\n",
        "cat_index = animals.index('cat')\n",
        "\n",
        "print(f\"Tuple: {animals}\")\n",
        "print(f\"Index of 'cat': {cat_index}\")\n",
        "\n",
        "# Verify by accessing the element at that index\n",
        "print(f\"Element at index {cat_index}: {animals[cat_index]}\")\n",
        "\n",
        "# Show all elements with their indices\n",
        "print(\"\\nAll elements with indices:\")\n",
        "for i, animal in enumerate(animals):\n",
        "    print(f\"Index {i}: {animal}\")"
      ]
    },
    {
      "cell_type": "markdown",
      "metadata": {},
      "source": [
        "### 15. Write a code to create a tuple containing three different fruits and check if \"kiwi\" is in it"
      ]
    },
    {
      "cell_type": "code",
      "metadata": {
        "colab": {
          "base_uri": "https://localhost:8080/"
        },
        "executionInfo": {
          "status": "ok"
        }
      },
      "execution_count": null,
      "outputs": [],
      "source": [
        "# Create tuple with three fruits and check if \"kiwi\" is in it\n",
        "fruits = ('apple', 'banana', 'orange')\n",
        "print(f\"Fruits tuple: {fruits}\")\n",
        "\n",
        "# Check if \"kiwi\" is in the tuple\n",
        "is_kiwi_present = 'kiwi' in fruits\n",
        "print(f\"Is 'kiwi' in the tuple? {is_kiwi_present}\")\n",
        "\n",
        "# Check for fruits that are actually in the tuple\n",
        "print(f\"Is 'apple' in the tuple? {'apple' in fruits}\")\n",
        "print(f\"Is 'banana' in the tuple? {'banana' in fruits}\")\n",
        "\n",
        "# Create another tuple that includes kiwi\n",
        "fruits_with_kiwi = ('apple', 'kiwi', 'mango')\n",
        "print(f\"\\nNew tuple: {fruits_with_kiwi}\")\n",
        "print(f\"Is 'kiwi' in new tuple? {'kiwi' in fruits_with_kiwi}\")"
      ]
    },
    {
      "cell_type": "markdown",
      "metadata": {},
      "source": [
        "### 16. Write a code to create a set with the elements 'a', 'b', 'c' and print it"
      ]
    },
    {
      "cell_type": "code",
      "metadata": {
        "colab": {
          "base_uri": "https://localhost:8080/"
        },
        "executionInfo": {
          "status": "ok"
        }
      },
      "execution_count": null,
      "outputs": [],
      "source": [
        "# Create a set with elements 'a', 'b', 'c'\n",
        "my_set = {'a', 'b', 'c'}\n",
        "print(f\"Set using curly braces: {my_set}\")\n",
        "print(f\"Type: {type(my_set)}\")\n",
        "\n",
        "# Alternative creation methods\n",
        "my_set2 = set(['a', 'b', 'c'])\n",
        "print(f\"Set using set() function: {my_set2}\")\n",
        "\n",
        "my_set3 = set('abc')\n",
        "print(f\"Set from string: {my_set3}\")"
      ]
    },
    {
      "cell_type": "markdown",
      "metadata": {},
      "source": [
        "### 17. Write a code to clear all elements from the set {1, 2, 3, 4, 5}"
      ]
    },
    {
      "cell_type": "code",
      "metadata": {
        "colab": {
          "base_uri": "https://localhost:8080/"
        },
        "executionInfo": {
          "status": "ok"
        }
      },
      "execution_count": null,
      "outputs": [],
      "source": [
        "# Clear all elements from set {1, 2, 3, 4, 5}\n",
        "my_set = {1, 2, 3, 4, 5}\n",
        "print(f\"Original set: {my_set}\")\n",
        "print(f\"Length before clearing: {len(my_set)}\")\n",
        "\n",
        "# Clear the set\n",
        "my_set.clear()\n",
        "print(f\"Set after clearing: {my_set}\")\n",
        "print(f\"Length after clearing: {len(my_set)}\")\n",
        "print(f\"Is set empty? {len(my_set) == 0}\")"
      ]
    },
    {
      "cell_type": "markdown",
      "metadata": {},
      "source": [
        "### 18. Write a code to remove the element 4 from the set {1, 2, 3, 4}"
      ]
    },
    {
      "cell_type": "code",
      "metadata": {
        "colab": {
          "base_uri": "https://localhost:8080/"
        },
        "executionInfo": {
          "status": "ok"
        }
      },
      "execution_count": null,
      "outputs": [],
      "source": [
        "# Remove element 4 from set {1, 2, 3, 4}\n",
        "my_set = {1, 2, 3, 4}\n",
        "print(f\"Original set: {my_set}\")\n",
        "\n",
        "# Method 1: Using remove() - raises error if element not found\n",
        "my_set_copy1 = my_set.copy()\n",
        "my_set_copy1.remove(4)\n",
        "print(f\"Using remove(4): {my_set_copy1}\")\n",
        "\n",
        "# Method 2: Using discard() - doesn't raise error if element not found\n",
        "my_set_copy2 = my_set.copy()\n",
        "my_set_copy2.discard(4)\n",
        "print(f\"Using discard(4): {my_set_copy2}\")\n",
        "\n",
        "# Demonstrate difference between remove() and discard()\n",
        "my_set_copy3 = my_set.copy()\n",
        "my_set_copy3.discard(10)  # Element doesn't exist, but no error\n",
        "print(f\"After discard(10) - non-existent element: {my_set_copy3}\")"
      ]
    },
    {
      "cell_type": "markdown",
      "metadata": {},
      "source": [
        "### 19. Write a code to find the union of two sets {1, 2, 3} and {3, 4, 5}"
      ]
    },
    {
      "cell_type": "code",
      "metadata": {
        "colab": {
          "base_uri": "https://localhost:8080/"
        },
        "executionInfo": {
          "status": "ok"
        }
      },
      "execution_count": null,
      "outputs": [],
      "source": [
        "# Find union of sets {1, 2, 3} and {3, 4, 5}\n",
        "set1 = {1, 2, 3}\n",
        "set2 = {3, 4, 5}\n",
        "\n",
        "print(f\"Set 1: {set1}\")\n",
        "print(f\"Set 2: {set2}\")\n",
        "\n",
        "# Method 1: Using union() method\n",
        "union_result1 = set1.union(set2)\n",
        "print(f\"Union using union(): {union_result1}\")\n",
        "\n",
        "# Method 2: Using | operator\n",
        "union_result2 = set1 | set2\n",
        "print(f\"Union using | operator: {union_result2}\")\n",
        "\n",
        "# Method 3: Using update() to modify original set\n",
        "set1_copy = set1.copy()\n",
        "set1_copy.update(set2)\n",
        "print(f\"Union using update(): {set1_copy}\")"
      ]
    },
    {
      "cell_type": "markdown",
      "metadata": {},
      "source": [
        "### 20. Write a code to find the intersection of two sets {1, 2, 3} and {2, 3, 4}"
      ]
    },
    {
      "cell_type": "code",
      "metadata": {
        "colab": {
          "base_uri": "https://localhost:8080/"
        },
        "executionInfo": {
          "status": "ok"
        }
      },
      "execution_count": null,
      "outputs": [],
      "source": [
        "# Find intersection of sets {1, 2, 3} and {2, 3, 4}\n",
        "set1 = {1, 2, 3}\n",
        "set2 = {2, 3, 4}\n",
        "\n",
        "print(f\"Set 1: {set1}\")\n",
        "print(f\"Set 2: {set2}\")\n",
        "\n",
        "# Method 1: Using intersection() method\n",
        "intersection_result1 = set1.intersection(set2)\n",
        "print(f\"Intersection using intersection(): {intersection_result1}\")\n",
        "\n",
        "# Method 2: Using & operator\n",
        "intersection_result2 = set1 & set2\n",
        "print(f\"Intersection using & operator: {intersection_result2}\")\n",
        "\n",
        "# Additional set operations for demonstration\n",
        "difference = set1 - set2\n",
        "print(f\"Difference (set1 - set2): {difference}\")\n",
        "\n",
        "symmetric_difference = set1 ^ set2\n",
        "print(f\"Symmetric difference (set1 ^ set2): {symmetric_difference}\")"
      ]
    },
    {
      "cell_type": "markdown",
      "metadata": {},
      "source": [
        "### 21. Write a code to create a dictionary with the keys \"name\", \"age\", and \"city\", and print it"
      ]
    },
    {
      "cell_type": "code",
      "metadata": {
        "colab": {
          "base_uri": "https://localhost:8080/"
        },
        "executionInfo": {
          "status": "ok"
        }
      },
      "execution_count": null,
      "outputs": [],
      "source": [
        "# Create dictionary with keys \"name\", \"age\", \"city\"\n",
        "person = {\n",
        "    \"name\": \"Alice Johnson\",\n",
        "    \"age\": 25,\n",
        "    \"city\": \"New York\"\n",
        "}\n",
        "\n",
        "print(f\"Dictionary: {person}\")\n",
        "print(f\"Type: {type(person)}\")\n",
        "\n",
        "# Alternative creation methods\n",
        "person2 = dict(name=\"Bob Smith\", age=30, city=\"Los Angeles\")\n",
        "print(f\"Using dict() constructor: {person2}\")\n",
        "\n",
        "# Create from list of tuples\n",
        "person3 = dict([('name', 'Charlie'), ('age', 28), ('city', 'Chicago')])\n",
        "print(f\"From list of tuples: {person3}\")"
      ]
    },
    {
      "cell_type": "markdown",
      "metadata": {},
      "source": [
        "### 22. Write a code to add a new key-value pair \"country\": \"USA\" to the dictionary {'name': 'John', 'age': 25}"
      ]
    },
    {
      "cell_type": "code",
      "metadata": {
        "colab": {
          "base_uri": "https://localhost:8080/"
        },
        "executionInfo": {
          "status": "ok"
        }
      },
      "execution_count": null,
      "outputs": [],
      "source": [
        "# Add \"country\": \"USA\" to dictionary {'name': 'John', 'age': 25}\n",
        "person = {'name': 'John', 'age': 25}\n",
        "print(f\"Original dictionary: {person}\")\n",
        "\n",
        "# Method 1: Using square bracket notation\n",
        "person['country'] = 'USA'\n",
        "print(f\"After adding country: {person}\")\n",
        "\n",
        "# Method 2: Using update() method\n",
        "person2 = {'name': 'John', 'age': 25}\n",
        "person2.update({'country': 'USA'})\n",
        "print(f\"Using update(): {person2}\")\n",
        "\n",
        "# Method 3: Using setdefault() - only adds if key doesn't exist\n",
        "person3 = {'name': 'John', 'age': 25}\n",
        "person3.setdefault('country', 'USA')\n",
        "print(f\"Using setdefault(): {person3}\")"
      ]
    },
    {
      "cell_type": "markdown",
      "metadata": {},
      "source": [
        "### 23. Write a code to access the value associated with the key \"name\" in the dictionary {'name': 'Alice', 'age': 30}"
      ]
    },
    {
      "cell_type": "code",
      "metadata": {
        "colab": {
          "base_uri": "https://localhost:8080/"
        },
        "executionInfo": {
          "status": "ok"
        }
      },
      "execution_count": null,
      "outputs": [],
      "source": [
        "# Access value for key \"name\" in {'name': 'Alice', 'age': 30}\n",
        "person = {'name': 'Alice', 'age': 30}\n",
        "print(f\"Dictionary: {person}\")\n",
        "\n",
        "# Method 1: Using square bracket notation\n",
        "name = person['name']\n",
        "print(f\"Name using []: {name}\")\n",
        "\n",
        "# Method 2: Using get() method (safer - doesn't raise error if key missing)\n",
        "name2 = person.get('name')\n",
        "print(f\"Name using get(): {name2}\")\n",
        "\n",
        "# Demonstrate difference between [] and get()\n",
        "# This would raise KeyError: print(person['height'])\n",
        "height = person.get('height', 'Not specified')\n",
        "print(f\"Height (with default): {height}\")\n",
        "\n",
        "# Access all keys and values\n",
        "print(f\"All keys: {list(person.keys())}\")\n",
        "print(f\"All values: {list(person.values())}\")"
      ]
    },
    {
      "cell_type": "markdown",
      "metadata": {},
      "source": [
        "### 24. Write a code to remove the key \"age\" from the dictionary {'name': 'Bob', 'age': 22, 'city': 'New York'}"
      ]
    },
    {
      "cell_type": "code",
      "metadata": {
        "colab": {
          "base_uri": "https://localhost:8080/"
        },
        "executionInfo": {
          "status": "ok"
        }
      },
      "execution_count": null,
      "outputs": [],
      "source": [
        "# Remove key \"age\" from {'name': 'Bob', 'age': 22, 'city': 'New York'}\n",
        "person = {'name': 'Bob', 'age': 22, 'city': 'New York'}\n",
        "print(f\"Original dictionary: {person}\")\n",
        "\n",
        "# Method 1: Using del keyword\n",
        "person_copy1 = person.copy()\n",
        "del person_copy1['age']\n",
        "print(f\"Using del: {person_copy1}\")\n",
        "\n",
        "# Method 2: Using pop() - returns the removed value\n",
        "person_copy2 = person.copy()\n",
        "removed_age = person_copy2.pop('age')\n",
        "print(f\"Using pop(): {person_copy2}\")\n",
        "print(f\"Removed value: {removed_age}\")\n",
        "\n",
        "# Method 3: Using pop() with default value (safe if key might not exist)\n",
        "person_copy3 = person.copy()\n",
        "removed_height = person_copy3.pop('height', 'Key not found')\n",
        "print(f\"Trying to remove non-existent key: {removed_height}\")\n",
        "print(f\"Dictionary unchanged: {person_copy3}\")"
      ]
    },
    {
      "cell_type": "markdown",
      "metadata": {},
      "source": [
        "### 25. Write a code to check if the key \"city\" exists in the dictionary {'name': 'Alice', 'city': 'Paris'}"
      ]
    },
    {
      "cell_type": "code",
      "metadata": {
        "colab": {
          "base_uri": "https://localhost:8080/"
        },
        "executionInfo": {
          "status": "ok"
        }
      },
      "execution_count": null,
      "outputs": [],
      "source": [
        "# Check if key \"city\" exists in {'name': 'Alice', 'city': 'Paris'}\n",
        "person = {'name': 'Alice', 'city': 'Paris'}\n",
        "print(f\"Dictionary: {person}\")\n",
        "\n",
        "# Method 1: Using 'in' keyword (most common)\n",
        "has_city = 'city' in person\n",
        "print(f\"Does 'city' exist? {has_city}\")\n",
        "\n",
        "# Method 2: Using keys() method\n",
        "has_city2 = 'city' in person.keys()\n",
        "print(f\"Using keys(): {has_city2}\")\n",
        "\n",
        "# Method 3: Using get() with None check\n",
        "has_city3 = person.get('city') is not None\n",
        "print(f\"Using get(): {has_city3}\")\n",
        "\n",
        "# Check for non-existent key\n",
        "has_age = 'age' in person\n",
        "print(f\"Does 'age' exist? {has_age}\")\n",
        "\n",
        "# Check multiple keys\n",
        "required_keys = ['name', 'city', 'age']\n",
        "for key in required_keys:\n",
        "    exists = key in person\n",
        "    print(f\"Key '{key}' exists: {exists}\")"
      ]
    },
    {
      "cell_type": "markdown",
      "metadata": {},
      "source": [
        "### 26. Write a code to create a list, a tuple, and a dictionary, and print them all"
      ]
    },
    {
      "cell_type": "code",
      "metadata": {
        "colab": {
          "base_uri": "https://localhost:8080/"
        },
        "executionInfo": {
          "status": "ok"
        }
      },
      "execution_count": null,
      "outputs": [],
      "source": [
        "# Create a list, tuple, and dictionary\n",
        "\n",
        "# Create a list\n",
        "my_list = [1, 2, 3, 'apple', 'banana']\n",
        "\n",
        "# Create a tuple\n",
        "my_tuple = (10, 20, 30, 'red', 'blue')\n",
        "\n",
        "# Create a dictionary\n",
        "my_dict = {\n",
        "    'name': 'Python',\n",
        "    'version': 3.12,\n",
        "    'features': ['dynamic', 'interpreted', 'object-oriented']\n",
        "}\n",
        "\n",
        "# Print all data structures\n",
        "print(\"=== Data Structures ===\")\n",
        "print(f\"List: {my_list}\")\n",
        "print(f\"List type: {type(my_list)}\")\n",
        "print()\n",
        "\n",
        "print(f\"Tuple: {my_tuple}\")\n",
        "print(f\"Tuple type: {type(my_tuple)}\")\n",
        "print()\n",
        "\n",
        "print(f\"Dictionary: {my_dict}\")\n",
        "print(f\"Dictionary type: {type(my_dict)}\")\n",
        "print()\n",
        "\n",
        "# Show characteristics\n",
        "print(\"=== Characteristics ===\")\n",
        "print(f\"List length: {len(my_list)}, Mutable: {True}\")\n",
        "print(f\"Tuple length: {len(my_tuple)}, Mutable: {False}\")\n",
        "print(f\"Dictionary length: {len(my_dict)}, Mutable: {True}\")"
      ]
    },
    {
      "cell_type": "markdown",
      "metadata": {},
      "source": [
        "### 27. Write a code to create a list of 5 random numbers between 1 and 100, sort it in ascending order, and print the result"
      ]
    },
    {
      "cell_type": "code",
      "metadata": {
        "colab": {
          "base_uri": "https://localhost:8080/"
        },
        "executionInfo": {
          "status": "ok"
        }
      },
      "execution_count": null,
      "outputs": [],
      "source": [
        "import random\n",
        "\n",
        "# Create list of 5 random numbers between 1 and 100\n",
        "random_numbers = [random.randint(1, 100) for _ in range(5)]\n",
        "print(f\"Original random list: {random_numbers}\")\n",
        "\n",
        "# Method 1: Using sort() method (modifies original list)\n",
        "numbers_copy1 = random_numbers.copy()\n",
        "numbers_copy1.sort()\n",
        "print(f\"Sorted using sort(): {numbers_copy1}\")\n",
        "\n",
        "# Method 2: Using sorted() function (creates new list)\n",
        "sorted_numbers = sorted(random_numbers)\n",
        "print(f\"Sorted using sorted(): {sorted_numbers}\")\n",
        "\n",
        "# Show original list is unchanged when using sorted()\n",
        "print(f\"Original list unchanged: {random_numbers}\")\n",
        "\n",
        "# Sort in descending order\n",
        "descending_numbers = sorted(random_numbers, reverse=True)\n",
        "print(f\"Sorted descending: {descending_numbers}\")\n",
        "\n",
        "# Generate another example with different numbers\n",
        "print(\"\\n=== Another Example ===\")\n",
        "random_numbers2 = [random.randint(1, 100) for _ in range(5)]\n",
        "print(f\"New random list: {random_numbers2}\")\n",
        "print(f\"Sorted: {sorted(random_numbers2)}\")"
      ]
    },
    {
      "cell_type": "markdown",
      "metadata": {},
      "source": [
        "### 28. Write a code to create a list with strings and print the element at the third index"
      ]
    },
    {
      "cell_type": "code",
      "metadata": {
        "colab": {
          "base_uri": "https://localhost:8080/"
        },
        "executionInfo": {
          "status": "ok"
        }
      },
      "execution_count": null,
      "outputs": [],
      "source": [
        "# Create list with strings and print element at third index\n",
        "string_list = ['apple', 'banana', 'cherry', 'date', 'elderberry', 'fig']\n",
        "print(f\"String list: {string_list}\")\n",
        "\n",
        "# Access element at third index (index 3)\n",
        "third_element = string_list[3]\n",
        "print(f\"Element at index 3: {third_element}\")\n",
        "\n",
        "# Show all elements with their indices\n",
        "print(\"\\nAll elements with indices:\")\n",
        "for i, fruit in enumerate(string_list):\n",
        "    marker = \" <-- Third index\" if i == 3 else \"\"\n",
        "    print(f\"Index {i}: {fruit}{marker}\")\n",
        "\n",
        "# Handle edge case - check if list has enough elements\n",
        "short_list = ['a', 'b', 'c']\n",
        "print(f\"\\nShort list: {short_list}\")\n",
        "if len(short_list) > 3:\n",
        "    print(f\"Element at index 3: {short_list[3]}\")\n",
        "else:\n",
        "    print(f\"List doesn't have element at index 3 (length: {len(short_list)})\")"
      ]
    },
    {
      "cell_type": "markdown",
      "metadata": {},
      "source": [
        "### 29. Write a code to combine two dictionaries into one and print the result"
      ]
    },
    {
      "cell_type": "code",
      "metadata": {
        "colab": {
          "base_uri": "https://localhost:8080/"
        },
        "executionInfo": {
          "status": "ok"
        }
      },
      "execution_count": null,
      "outputs": [],
      "source": [
        "# Combine two dictionaries into one\n",
        "dict1 = {'name': 'Alice', 'age': 25, 'city': 'New York'}\n",
        "dict2 = {'country': 'USA', 'profession': 'Engineer', 'age': 26}  # Note: 'age' key conflicts\n",
        "\n",
        "print(f\"Dictionary 1: {dict1}\")\n",
        "print(f\"Dictionary 2: {dict2}\")\n",
        "print()\n",
        "\n",
        "# Method 1: Using update() method (modifies first dictionary)\n",
        "dict1_copy = dict1.copy()\n",
        "dict1_copy.update(dict2)\n",
        "print(f\"Using update(): {dict1_copy}\")\n",
        "print(\"Note: dict2 values override dict1 for same keys\")\n",
        "print()\n",
        "\n",
        "# Method 2: Using dictionary unpacking (Python 3.5+)\n",
        "combined_dict = {**dict1, **dict2}\n",
        "print(f\"Using unpacking: {combined_dict}\")\n",
        "print()\n",
        "\n",
        "# Method 3: Using union operator | (Python 3.9+)\n",
        "try:\n",
        "    combined_dict2 = dict1 | dict2\n",
        "    print(f\"Using | operator: {combined_dict2}\")\n",
        "except TypeError:\n",
        "    print(\"Union operator not available (Python < 3.9)\")\n",
        "print()\n",
        "\n",
        "# Method 4: Handle key conflicts explicitly\n",
        "combined_safe = dict1.copy()\n",
        "for key, value in dict2.items():\n",
        "    if key in combined_safe:\n",
        "        print(f\"Warning: Key '{key}' exists. Old: {combined_safe[key]}, New: {value}\")\n",
        "    combined_safe[key] = value\n",
        "\n",
        "print(f\"Final combined dictionary: {combined_safe}\")"
      ]
    },
    {
      "cell_type": "markdown",
      "metadata": {},
      "source": [
        "### 30. Write a code to convert a list of strings into a set"
      ]
    },
    {
      "cell_type": "code",
      "metadata": {
        "colab": {
          "base_uri": "https://localhost:8080/"
        },
        "executionInfo": {
          "status": "ok"
        }
      },
      "execution_count": null,
      "outputs": [],
      "source": [
        "# Convert list of strings into a set\n",
        "string_list = ['apple', 'banana', 'cherry', 'apple', 'date', 'banana', 'elderberry']\n",
        "print(f\"Original list: {string_list}\")\n",
        "print(f\"List length: {len(string_list)}\")\n",
        "\n",
        "# Convert to set\n",
        "string_set = set(string_list)\n",
        "print(f\"\\nConverted to set: {string_set}\")\n",
        "print(f\"Set length: {len(string_set)}\")\n",
        "\n",
        "# Show what happened to duplicates\n",
        "duplicates_removed = len(string_list) - len(string_set)\n",
        "print(f\"Duplicates removed: {duplicates_removed}\")\n",
        "\n",
        "# Find which elements were duplicated\n",
        "from collections import Counter\n",
        "element_counts = Counter(string_list)\n",
        "duplicates = {item: count for item, count in element_counts.items() if count > 1}\n",
        "print(f\"Duplicate elements: {duplicates}\")\n",
        "\n",
        "# Convert back to list (if needed) - note: order is not preserved\n",
        "back_to_list = list(string_set)\n",
        "print(f\"\\nBack to list (no duplicates): {back_to_list}\")\n",
        "print(\"Note: Original order is not preserved when converting back from set\")\n",
        "\n",
        "# Preserve order while removing duplicates\n",
        "def remove_duplicates_preserve_order(lst):\n",
        "    seen = set()\n",
        "    result = []\n",
        "    for item in lst:\n",
        "        if item not in seen:\n",
        "            seen.add(item)\n",
        "            result.append(item)\n",
        "    return result\n",
        "\n",
        "ordered_unique = remove_duplicates_preserve_order(string_list)\n",
        "print(f\"Order-preserved unique list: {ordered_unique}\")"
      ]
    },
    {
      "cell_type": "markdown",
      "metadata": {},
      "source": [
        "---\n\n## Assignment Summary\n\n### Completed Sections:\n\n**Part 1: Theoretical Questions (20 questions)**\n",
        "- ✅ Data structures fundamentals\n",
        "- ✅ Mutable vs immutable data types\n",
        "- ✅ Lists, tuples, sets, dictionaries\n",
        "- ✅ Hash tables and time complexity\n",
        "- ✅ Data retrieval mechanisms\n",
        "\n",
        "**Part 2: Practical Questions (30 questions)**\n",
        "- ✅ String operations (5 questions)\n",
        "- ✅ List operations (5 questions)\n",
        "- ✅ Tuple operations (5 questions)\n",
        "- ✅ Set operations (5 questions)\n",
        "- ✅ Dictionary operations (5 questions)\n",
        "- ✅ Mixed data structure operations (5 questions)\n",
        "\n",
        "### Key Learning Outcomes:\n",
        "\n",
        "1. **Understanding Data Structures**: Comprehensive knowledge of Python's built-in data structures\n",
        "2. **Practical Implementation**: Hands-on experience with all major operations\n",
        "3. **Performance Awareness**: Understanding of time complexities and use cases\n",
        "4. **Best Practices**: Learning when to use each data structure effectively\n",
        "\n",
        "### Total Questions Completed: 50\n",
        "- **Theoretical Questions**: 20/20 ✅\n",
        "- **Practical Questions**: 30/30 ✅\n",
        "\n",
        "---\n",
        "\n",
        "*This assignment demonstrates comprehensive understanding of Python data types and structures through both theoretical knowledge and practical implementation.*"
      ]
    }
  ],
  "metadata": {
    "colab": {
      "provenance": [],
      "collapsed_sections": []
    },
    "kernelspec": {
      "name": "python3",
      "display_name": "Python 3"
    },
    "language_info": {
      "name": "python"
    }
  },
  "nbformat": 4,
  "nbformat_minor": 0
}