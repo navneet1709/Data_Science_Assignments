{
  "nbformat": 4,
  "nbformat_minor": 0,
  "metadata": {
    "colab": {
      "provenance": []
    },
    "kernelspec": {
      "name": "python3",
      "display_name": "Python 3"
    },
    "language_info": {
      "name": "python"
    }
  },
  "cells": [
    {
      "cell_type": "markdown",
      "source": [
        " Theory Questions\n"
      ],
      "metadata": {
        "id": "2vdcf0QIabcW"
      }
    },
    {
      "cell_type": "markdown",
      "source": [
        "1. What is Python, and why is it popular ?"
      ],
      "metadata": {
        "id": "ENUNv57Ta3vv"
      }
    },
    {
      "cell_type": "markdown",
      "source": [
        "     Ans. Python is a high-level, interpreted programming language known for its simplicity and readability. It uses clear, English-like syntax which makes it especially attractive for beginners in programming as well as professionals. Python supports multiple programming paradigms, including procedural, object-oriented, and functional programming.\n",
        "\n",
        "     Python is popular for various reasons such as\n",
        "     a) Readability and Simplicity\n",
        "     b) Versatility\n",
        "     c) Extensive Standard Library and  Ecosystem.\n",
        "     d) Cross - Platform Compatibility"
      ],
      "metadata": {
        "id": "ysHwbfv3a--0"
      }
    },
    {
      "cell_type": "markdown",
      "source": [
        "2.  What is an interpreter in Python ?\n",
        "      "
      ],
      "metadata": {
        "id": "98r3B0yQc2Iu"
      }
    },
    {
      "cell_type": "markdown",
      "source": [
        "       Ans. An interpreter in Python is a program that reads and executes the Python code you write. Unlike a compiler that translates the entire program into machine code before execution, an interpreter processes the code line by line. The Python interpreter converts the source code into an intermediate form called bytecode, which is then executed by the Python Virtual Machine (PVM)."
      ],
      "metadata": {
        "id": "bRCcJRqmdHZX"
      }
    },
    {
      "cell_type": "markdown",
      "source": [
        "3. What are pre-defined keywords in Python ?"
      ],
      "metadata": {
        "id": "roNKCtCKdoxR"
      }
    },
    {
      "cell_type": "markdown",
      "source": [
        "       Ans. Pre-defined keywords in Python are reserved words that have special meanings and specific functions within the language syntax. These keywords cannot be used as variable names, function names, or any other identifiers because they are essential to define the structure and logic of Python programs."
      ],
      "metadata": {
        "id": "c00BkVx5d5Oy"
      }
    },
    {
      "cell_type": "markdown",
      "source": [
        "4. Can keywords be used as variable names ?"
      ],
      "metadata": {
        "id": "lYtbmgy5eHw0"
      }
    },
    {
      "cell_type": "markdown",
      "source": [
        "     Ans. No, keywords cannot be used as variable names in Python. Keywords are reserved words that have specific meanings in the language's syntax and structure, so they are not allowed to be used as identifiers such as variable names, function names, or class names. Using a keyword as a variable name will result in a syntax error."
      ],
      "metadata": {
        "id": "m8OC1u8OeS6a"
      }
    },
    {
      "cell_type": "code",
      "source": [
        "?"
      ],
      "metadata": {
        "id": "slgdE24Hf0ua"
      },
      "execution_count": null,
      "outputs": []
    },
    {
      "cell_type": "markdown",
      "source": [
        "5. What is mutability in Python ?"
      ],
      "metadata": {
        "id": "AH4NJdV6e6Yf"
      }
    },
    {
      "cell_type": "markdown",
      "source": [
        "    Ans. Mutability in Python refers to the ability of an object to be changed or modified after it has been created. If an object can have its value or state changed in place without creating a new object, it is considered mutable. Conversely, if an object cannot be changed once created, it is called immutable."
      ],
      "metadata": {
        "id": "l4ah1O1WfFvo"
      }
    },
    {
      "cell_type": "markdown",
      "source": [],
      "metadata": {
        "id": "_xZDri7lfdcK"
      }
    },
    {
      "cell_type": "markdown",
      "source": [
        "6. Why are lists mutable, but tuples are immutable ?"
      ],
      "metadata": {
        "id": "vjhYJpXvfskw"
      }
    },
    {
      "cell_type": "markdown",
      "source": [
        "    Ans. Lists are mutable in Python because they are designed to be flexible collections that allow modifications after creation, such as adding, removing, or changing elements. This mutability enables lists to be dynamic and accommodate changing data during program execution. Internally, list objects allocate extra space to enable efficient insertion and deletion of elements, which supports their mutable nature.\n",
        "\n",
        "    Tuples, on the other hand, are immutable, meaning that once a tuple is created, its contents cannot be altered. The immutability of tuples is by design to provide certain advantages:\n",
        "    a) Tuples have a fixed size and fixed content, which allows simpler and faster access to their elements compared to lists.\n",
        "    b) Immutability makes tuples more memory-efficient because they do not need the extra overhead required for dynamic resizing and modifications.\n",
        "    c) Tuples can be used as keys in dictionaries or as elements in sets since their immutability ensures they remain hashable, unlike lists which are mutable and unhashable.\n",
        "    d) Immutability also means tuples are less prone to unintended changes and errors in programs.\n",
        "    In summary, lists are mutable because they are meant for dynamic, changeable collections, while tuples are immutable to provide performance, memory efficiency, and safety benefits for fixed collections of data.\n",
        "\n"
      ],
      "metadata": {
        "id": "fOAotWIlf8BK"
      }
    },
    {
      "cell_type": "markdown",
      "source": [
        "7. What is the difference between “==” and “is” operators in Python ?"
      ],
      "metadata": {
        "id": "dGcqoPgUg1em"
      }
    },
    {
      "cell_type": "markdown",
      "source": [
        "   Ans. In Python, the == operator checks whether the values of two objects are equal, while the is operator checks whether two variables point to the exact same object (identity) in memory.\n",
        "\n",
        "   == compares values:  1 == 1 returns True because their contents are the same, even though they are different objects in memory.\n",
        "\n",
        "   is compares identities:  123 is 123 returns False because, despite having the same contents, they are distinct objects in memory.\n",
        "\n",
        "   Use == for checking value equality and is for checking if two references point to the same object (such as when testing if a variable is None). Misusing is for value comparison can lead to unexpected behavior, especially with mutable or user-defined objects."
      ],
      "metadata": {
        "id": "vNu2V3z2gqIO"
      }
    },
    {
      "cell_type": "markdown",
      "source": [
        "8. What are logical operators in Python ?"
      ],
      "metadata": {
        "id": "P4tAEVvUaBuz"
      }
    },
    {
      "cell_type": "markdown",
      "source": [
        "    Ans. Logical operators in Python are used to combine conditional statements and return Boolean results (True or False) based on the logic of the operands. The three main logical operators in Python are:\n",
        "\n",
        "    a) and: Returns True if both operands (conditions) are true.\n",
        "    Example: (x > 5 and x < 10) returns True if x is greater than 5 and less than 10.\n",
        "\n",
        "    b) or: Returns True if at least one of the operands (conditions) is true.\n",
        "    Example: (x > 5 or x < 3) returns True if x is greater than 5 or less than 3 (or both).\n",
        "\n",
        "    c)not: Reverses the result; returns True if the operand is false and vice versa.\n",
        "    Example: not(x > 5) returns True if x is not greater than 5."
      ],
      "metadata": {
        "id": "_Ew3pxf5aLYQ"
      }
    },
    {
      "cell_type": "markdown",
      "source": [],
      "metadata": {
        "id": "e0AhSyftbXHn"
      }
    },
    {
      "cell_type": "markdown",
      "source": [
        "9. What is type casting in Python ?"
      ],
      "metadata": {
        "id": "PmvyuEgjbZo2"
      }
    },
    {
      "cell_type": "markdown",
      "source": [
        "    Ans. Type casting in Python is the process of converting a variable from one data type to another. This is done to ensure that operations requiring a specific data type can be performed correctly. There are two main types of type casting in Python:\n",
        "\n",
        "    Implicit Type Casting: Python automatically converts one data type to another without user intervention, usually converting lower-level data types to higher-level ones to prevent data loss (e.g., adding an integer to a float results in a float).\n",
        "\n",
        "    Explicit Type Casting: The user manually converts a variable's data type using built-in functions like int(), float(), str(), etc. For example, converting a string \"5\" to an integer 5 using int(\"5\").\n",
        "\n",
        "    Type casting is useful when you need to perform operations between different data types or change the type of a variable for logical requirements in your program.\n"
      ],
      "metadata": {
        "id": "Ag45FfevbxKa"
      }
    },
    {
      "cell_type": "markdown",
      "source": [
        "10. What is the difference between implicit and explicit type casting ?\n"
      ],
      "metadata": {
        "id": "2p1KNsLmcUOX"
      }
    },
    {
      "cell_type": "markdown",
      "source": [
        "    Ans. Implicit type casting (or implicit conversion) is done automatically by Python without programmer intervention. Python converts one data type to another to avoid errors or data loss during operations, such as converting an integer to a float when adding a float and an integer. This process happens behind the scenes and ensures operations work smoothly without manual changes.\n",
        "\n",
        "    Explicit type casting (or explicit conversion) requires the programmer to manually convert a variable from one data type to another using built-in functions like int(), float(), or str(). This gives the programmer full control over the conversion process, ensuring precision and clarity in cases where automatic conversion might not be appropriate. For example, converting a string \"5\" to an integer 5 using int(\"5\")."
      ],
      "metadata": {
        "id": "_87IBmAYcbH3"
      }
    },
    {
      "cell_type": "markdown",
      "source": [
        "11.  What is the purpose of conditional statements in Python ?"
      ],
      "metadata": {
        "id": "pB9dAF9Lc20M"
      }
    },
    {
      "cell_type": "markdown",
      "source": [
        "    Ans. The purpose of conditional statements in Python is to control the flow of a program by making decisions based on certain conditions. They allow the program to execute specific blocks of code only when particular conditions are true, enabling dynamic behavior and decision-making.\n",
        "\n",
        "    Using conditional statements like if, elif, and else, you can:\n",
        "\n",
        "    a)Execute code only when a condition is met (e.g., if a user input is valid).\n",
        "\n",
        "    b)Choose between multiple possible actions based on different conditions.\n",
        "\n",
        "    c)Handle different scenarios and control how the program responds to varying inputs or states."
      ],
      "metadata": {
        "id": "x9An-M-Vc8ev"
      }
    },
    {
      "cell_type": "markdown",
      "source": [
        "12. How does the elif statement work ?"
      ],
      "metadata": {
        "id": "qaGF8lovdYYm"
      }
    },
    {
      "cell_type": "markdown",
      "source": [
        "    Ans. The elif statement in Python stands for \"else if\" and is used to check multiple conditions sequentially after an initial if condition. When an if condition evaluates to False, the program checks the elif condition next. If the elif condition is True, the corresponding code block executes, and the rest of the elif or else blocks are skipped. If it is False, the program continues checking subsequent elif statements or an optional final else block if provided. Only one block within an if-elif-else chain executes."
      ],
      "metadata": {
        "id": "OGAC4wIsdllx"
      }
    },
    {
      "cell_type": "markdown",
      "source": [
        "13. What is the difference between for and while loops ?\n"
      ],
      "metadata": {
        "id": "-OJxpllFd0uE"
      }
    },
    {
      "cell_type": "markdown",
      "source": [
        "    Ans. A for loop iterates over a sequence of items (like lists, tuples, strings, or ranges) where the number of iterations is predetermined or finite. It automatically goes through each element in the sequence one by one. It is ideal for situations when you know in advance how many times you want the loop to run or when iterating over a collection of items."
      ],
      "metadata": {
        "id": "4tEm6S6ueAly"
      }
    },
    {
      "cell_type": "markdown",
      "source": [
        "14.  Describe a scenario where a while loop is more suitable than a for loop ?"
      ],
      "metadata": {
        "id": "2br5roo5eNRl"
      }
    },
    {
      "cell_type": "markdown",
      "source": [
        "    Ans. A scenario where a while loop is more suitable than a for loop is when you need to repeat an action or check a condition continuously until something changes in a way you cannot predict beforehand. For example, if you are waiting for a user to provide a correct input, such as entering the right password or responding with a specific answer, the number of attempts needed is uncertain. The loop should keep running as long as the input is incorrect or the condition is unmet. Since you don’t know in advance how many times the loop should run, a while loop is ideal because it continues based purely on the condition being true, rather than a fixed number of iterations."
      ],
      "metadata": {
        "id": "J6VlIlEJeYjy"
      }
    },
    {
      "cell_type": "markdown",
      "source": [
        "Practical Question"
      ],
      "metadata": {
        "id": "RubetloCeyOa"
      }
    },
    {
      "cell_type": "markdown",
      "source": [
        "1. Write a Python program to print \"Hello, World!y ?"
      ],
      "metadata": {
        "id": "fHg1BKHUe4rJ"
      }
    },
    {
      "cell_type": "code",
      "source": [
        "print(\"Hello, World ! \")"
      ],
      "metadata": {
        "colab": {
          "base_uri": "https://localhost:8080/"
        },
        "id": "vHsvyrFLf7Z5",
        "outputId": "ff73afef-5efa-44e0-9a6e-342e2b929f12"
      },
      "execution_count": null,
      "outputs": [
        {
          "output_type": "stream",
          "name": "stdout",
          "text": [
            "Hello, World ! \n"
          ]
        }
      ]
    },
    {
      "cell_type": "markdown",
      "source": [
        "2. Write a Python program that displays your name and age ?"
      ],
      "metadata": {
        "id": "zTrR84p-gN_T"
      }
    },
    {
      "cell_type": "code",
      "source": [
        "name = input(\"Enter your name : \")\n",
        "age = int(input(\"Enter your age : \"))\n",
        "print('My name is ' + name)\n",
        "print('My age is ' + str(age))"
      ],
      "metadata": {
        "colab": {
          "base_uri": "https://localhost:8080/"
        },
        "id": "eDjdCYxJgdZX",
        "outputId": "859fbcd7-7852-4faa-ea8a-85e5d6f323b5"
      },
      "execution_count": null,
      "outputs": [
        {
          "output_type": "stream",
          "name": "stdout",
          "text": [
            "Enter your name : Navneet Kumar\n",
            "Enter your age : 24\n",
            "My name is Navneet Kumar\n",
            "My age is 24\n"
          ]
        }
      ]
    },
    {
      "cell_type": "markdown",
      "source": [
        "3. Write code to print all the pre-defined keywords in Python using the keyword library ?"
      ],
      "metadata": {
        "id": "j8kgpaeSbBKj"
      }
    },
    {
      "cell_type": "code",
      "source": [
        "import keyword\n",
        "\n",
        "print(\"The list of keywords in Python are:\")\n",
        "print(keyword.kwlist)\n"
      ],
      "metadata": {
        "colab": {
          "base_uri": "https://localhost:8080/"
        },
        "id": "prSlgZ9_h7Ly",
        "outputId": "f4b2e4b5-8168-4dec-d036-404cc2f872c7"
      },
      "execution_count": null,
      "outputs": [
        {
          "output_type": "stream",
          "name": "stdout",
          "text": [
            "The list of keywords in Python are:\n",
            "['False', 'None', 'True', 'and', 'as', 'assert', 'async', 'await', 'break', 'class', 'continue', 'def', 'del', 'elif', 'else', 'except', 'finally', 'for', 'from', 'global', 'if', 'import', 'in', 'is', 'lambda', 'nonlocal', 'not', 'or', 'pass', 'raise', 'return', 'try', 'while', 'with', 'yield']\n"
          ]
        }
      ]
    },
    {
      "cell_type": "markdown",
      "source": [
        "4. Write a program that checks if a given word is a Python keyword ?"
      ],
      "metadata": {
        "id": "s7S7bLMrhrjJ"
      }
    },
    {
      "cell_type": "code",
      "source": [
        "import keyword\n",
        "\n",
        "word = input(\"Enter a word: \")\n",
        "\n",
        "if keyword.iskeyword(word):\n",
        "    print(f\"'{word}' is a Python keyword.\")\n",
        "else:\n",
        "    print(f\"'{word}' is NOT a Python keyword.\")\n"
      ],
      "metadata": {
        "colab": {
          "base_uri": "https://localhost:8080/"
        },
        "id": "6g5P6oOKiaQS",
        "outputId": "a72cec1d-9afe-4ab4-d5d2-f270f8e57c02"
      },
      "execution_count": null,
      "outputs": [
        {
          "output_type": "stream",
          "name": "stdout",
          "text": [
            "Enter a word: Navneet\n",
            "'Navneet' is NOT a Python keyword.\n"
          ]
        }
      ]
    },
    {
      "cell_type": "markdown",
      "source": [
        "5. Create a list and tuple in Python, and demonstrate how attempting to change  an element works differently for each ?"
      ],
      "metadata": {
        "id": "K-38YuRfi3m0"
      }
    },
    {
      "cell_type": "code",
      "source": [
        "\n",
        "my_list = [10, 20, 30]\n",
        "print(\"Original list:\", my_list)\n",
        "\n",
        "\n",
        "my_list[1] = 99\n",
        "print(\"Modified list:\", my_list)\n",
        "\n",
        "\n",
        "my_tuple = (10, 20, 30)\n",
        "print(\"Original tuple:\", my_tuple)\n",
        "\n",
        "\n",
        "try:\n",
        "    my_tuple[1] = 99\n",
        "except TypeError as e:\n",
        "    print(\"Error while modifying tuple:\", e)\n"
      ],
      "metadata": {
        "colab": {
          "base_uri": "https://localhost:8080/"
        },
        "id": "fj_piXmmjq1K",
        "outputId": "bd537dd9-e41d-455a-b582-1b2a0739919c"
      },
      "execution_count": null,
      "outputs": [
        {
          "output_type": "stream",
          "name": "stdout",
          "text": [
            "Original list: [10, 20, 30]\n",
            "Modified list: [10, 99, 30]\n",
            "Original tuple: (10, 20, 30)\n",
            "Error while modifying tuple: 'tuple' object does not support item assignment\n"
          ]
        }
      ]
    },
    {
      "cell_type": "markdown",
      "source": [],
      "metadata": {
        "id": "-STf80xTcm_G"
      }
    },
    {
      "cell_type": "markdown",
      "source": [
        "6. Write a function to demonstrate the behavior of mutable and immutable arguments ?"
      ],
      "metadata": {
        "id": "7lmFZJWaj-P3"
      }
    },
    {
      "cell_type": "code",
      "source": [
        "def modify_arguments(immutable_arg, mutable_arg):\n",
        "\n",
        "    print(\"Inside function before modification:\")\n",
        "    print(f\"immutable_arg id: {id(immutable_arg)}, value: {immutable_arg}\")\n",
        "    immutable_arg += 10\n",
        "    print(f\"immutable_arg id after modification: {id(immutable_arg)}, value: {immutable_arg}\")\n",
        "\n",
        "\n",
        "    print(f\"mutable_arg id: {id(mutable_arg)}, value: {mutable_arg}\")\n",
        "    mutable_arg.append(100)\n",
        "    print(f\"mutable_arg id after modification: {id(mutable_arg)}, value: {mutable_arg}\")\n",
        "\n",
        "\n",
        "immutable_value = 5\n",
        "mutable_value = [1, 2, 3]\n",
        "\n",
        "print(\"Before function call:\")\n",
        "print(f\"immutable_value id: {id(immutable_value)}, value: {immutable_value}\")\n",
        "print(f\"mutable_value id: {id(mutable_value)}, value: {mutable_value}\\n\")\n",
        "\n",
        "modify_arguments(immutable_value, mutable_value)\n",
        "\n",
        "print(\"\\nAfter function call:\")\n",
        "print(f\"immutable_value id: {id(immutable_value)}, value: {immutable_value}\")\n",
        "print(f\"mutable_value id: {id(mutable_value)}, value: {mutable_value}\")\n"
      ],
      "metadata": {
        "colab": {
          "base_uri": "https://localhost:8080/"
        },
        "id": "2SuZEFW2kH9h",
        "outputId": "6c6e503d-44d0-4da9-9e31-9f7a80e40cbe"
      },
      "execution_count": null,
      "outputs": [
        {
          "output_type": "stream",
          "name": "stdout",
          "text": [
            "Before function call:\n",
            "immutable_value id: 10757864, value: 5\n",
            "mutable_value id: 136102510149824, value: [1, 2, 3]\n",
            "\n",
            "Inside function before modification:\n",
            "immutable_arg id: 10757864, value: 5\n",
            "immutable_arg id after modification: 10758184, value: 15\n",
            "mutable_arg id: 136102510149824, value: [1, 2, 3]\n",
            "mutable_arg id after modification: 136102510149824, value: [1, 2, 3, 100]\n",
            "\n",
            "After function call:\n",
            "immutable_value id: 10757864, value: 5\n",
            "mutable_value id: 136102510149824, value: [1, 2, 3, 100]\n"
          ]
        }
      ]
    },
    {
      "cell_type": "markdown",
      "source": [
        "7. Write a program that performs basic arithmetic operations on two user-input numbers ?"
      ],
      "metadata": {
        "id": "qv9SAWWbmn6g"
      }
    },
    {
      "cell_type": "code",
      "source": [
        "\n",
        "num1 = float(input(\"Enter the first number: \"))\n",
        "num2 = float(input(\"Enter the second number: \"))\n",
        "\n",
        "\n",
        "addition = num1 + num2\n",
        "subtraction = num1 - num2\n",
        "multiplication = num1 * num2\n",
        "\n",
        "\n",
        "if num2 != 0:\n",
        "    division = num1 / num2\n",
        "else:\n",
        "    division = \"Undefined (cannot divide by zero)\"\n",
        "\n",
        "\n",
        "print(f\"\\nResults:\")\n",
        "print(f\"{num1} + {num2} = {addition}\")\n",
        "print(f\"{num1} - {num2} = {subtraction}\")\n",
        "print(f\"{num1} * {num2} = {multiplication}\")\n",
        "print(f\"{num1} / {num2} = {division}\")\n"
      ],
      "metadata": {
        "colab": {
          "base_uri": "https://localhost:8080/"
        },
        "id": "7XftUUJHm7oH",
        "outputId": "43ae7879-43a4-420f-b592-f981dc217c9d"
      },
      "execution_count": null,
      "outputs": [
        {
          "output_type": "stream",
          "name": "stdout",
          "text": [
            "Enter the first number: 45\n",
            "Enter the second number: 5\n",
            "\n",
            "Results:\n",
            "45.0 + 5.0 = 50.0\n",
            "45.0 - 5.0 = 40.0\n",
            "45.0 * 5.0 = 225.0\n",
            "45.0 / 5.0 = 9.0\n"
          ]
        }
      ]
    },
    {
      "cell_type": "markdown",
      "source": [
        "8.  Write a program to demonstrate the use of logical operators ?"
      ],
      "metadata": {
        "id": "qQB-Qxt9ugn6"
      }
    },
    {
      "cell_type": "code",
      "source": [
        "\n",
        "\n",
        "a = 10\n",
        "b = 20\n",
        "c = 30\n",
        "\n",
        "\n",
        "print(\"a < b and b < c:\", a < b and b < c)\n",
        "\n",
        "\n",
        "print(\"a > b or b < c:\", a > b or b < c)\n",
        "\n",
        "\n",
        "print(\"not(a > b):\", not (a > b))\n",
        "\n",
        "print(\"not(a < b and c > b):\", not (a < b and c > b))\n",
        "\n",
        "\n",
        "x = True\n",
        "y = False\n",
        "\n",
        "print(\"x and y:\", x and y)\n",
        "print(\"x or y:\", x or y)\n",
        "print(\"not x:\", not x)\n"
      ],
      "metadata": {
        "colab": {
          "base_uri": "https://localhost:8080/"
        },
        "id": "ff4mTUEdwDCd",
        "outputId": "0a58c8ed-23e9-45cd-fa9b-04b99fe59287"
      },
      "execution_count": 1,
      "outputs": [
        {
          "output_type": "stream",
          "name": "stdout",
          "text": [
            "a < b and b < c: True\n",
            "a > b or b < c: True\n",
            "not(a > b): True\n",
            "not(a < b and c > b): False\n",
            "x and y: False\n",
            "x or y: True\n",
            "not x: False\n"
          ]
        }
      ]
    },
    {
      "cell_type": "markdown",
      "source": [
        "9.  Write a Python program to convert user input from string to integer, float, and boolean types ?"
      ],
      "metadata": {
        "id": "MU8AdLtowe8H"
      }
    },
    {
      "cell_type": "code",
      "source": [
        "\n",
        "\n",
        "user_input = input(\"Enter something: \")\n",
        "\n",
        "\n",
        "try:\n",
        "    int_val = int(user_input)\n",
        "    print(\"As integer:\", int_val)\n",
        "except ValueError:\n",
        "    print(\"Cannot convert input to integer.\")\n",
        "\n",
        "try:\n",
        "    float_val = float(user_input)\n",
        "    print(\"As float:\", float_val)\n",
        "except ValueError:\n",
        "    print(\"Cannot convert input to float.\")\n",
        "\n",
        "\n",
        "true_values = {'true', '1', 'yes', 'y', 't'}\n",
        "false_values = {'false', '0', 'no', 'n', 'f'}\n",
        "\n",
        "input_lower = user_input.strip().lower()\n",
        "if input_lower in true_values:\n",
        "    bool_val = True\n",
        "    print(\"As boolean:\", bool_val)\n",
        "elif input_lower in false_values:\n",
        "    bool_val = False\n",
        "    print(\"As boolean:\", bool_val)\n",
        "else:\n",
        "    print(\"Cannot confidently convert input to boolean. Please enter 'true'/'false', '1'/'0', 'yes'/'no'.\")\n",
        "\n"
      ],
      "metadata": {
        "colab": {
          "base_uri": "https://localhost:8080/"
        },
        "id": "w8Aef9d1wrVh",
        "outputId": "1740acf0-3e15-4749-d64c-51d69ac82377"
      },
      "execution_count": 2,
      "outputs": [
        {
          "output_type": "stream",
          "name": "stdout",
          "text": [
            "Enter something: 23\n",
            "As integer: 23\n",
            "As float: 23.0\n",
            "Cannot confidently convert input to boolean. Please enter 'true'/'false', '1'/'0', 'yes'/'no'.\n"
          ]
        }
      ]
    },
    {
      "cell_type": "markdown",
      "source": [
        "10. Write code to demonstrate type casting with list elements ?"
      ],
      "metadata": {
        "id": "8q2kdPYcxJDx"
      }
    },
    {
      "cell_type": "code",
      "source": [
        "\n",
        "string_list = ['10', '3.14', '0', 'True', 'false', 'hello', '42']\n",
        "\n",
        "print(\"Original List:\", string_list)\n",
        "\n",
        "\n",
        "int_list = []\n",
        "for item in string_list:\n",
        "    try:\n",
        "        int_list.append(int(item))\n",
        "    except ValueError:\n",
        "        int_list.append(None)\n",
        "print(\"As Integers:\", int_list)\n",
        "\n",
        "\n",
        "float_list = []\n",
        "for item in string_list:\n",
        "    try:\n",
        "        float_list.append(float(item))\n",
        "    except ValueError:\n",
        "        float_list.append(None)\n",
        "print(\"As Floats:\", float_list)\n",
        "\n",
        "\n",
        "def str_to_bool(s):\n",
        "    s_lower = s.strip().lower()\n",
        "    if s_lower in {'true', '1', 'yes', 'y', 't'}:\n",
        "        return True\n",
        "    elif s_lower in {'false', '0', 'no', 'n', 'f'}:\n",
        "        return False\n",
        "    else:\n",
        "        return None\n",
        "\n",
        "bool_list = [str_to_bool(item) for item in string_list]\n",
        "print(\"As Booleans:\", bool_list)\n"
      ],
      "metadata": {
        "colab": {
          "base_uri": "https://localhost:8080/"
        },
        "id": "RVX2LcEvxMpC",
        "outputId": "b51eb5a8-8f03-4724-a0bd-7eeaec681b5c"
      },
      "execution_count": 3,
      "outputs": [
        {
          "output_type": "stream",
          "name": "stdout",
          "text": [
            "Original List: ['10', '3.14', '0', 'True', 'false', 'hello', '42']\n",
            "As Integers: [10, None, 0, None, None, None, 42]\n",
            "As Floats: [10.0, 3.14, 0.0, None, None, None, 42.0]\n",
            "As Booleans: [None, None, False, True, False, None, None]\n"
          ]
        }
      ]
    },
    {
      "cell_type": "markdown",
      "source": [
        "11.  Write a program that checks if a number is positive, negative, or zero ?"
      ],
      "metadata": {
        "id": "MVXJVOrCxpux"
      }
    },
    {
      "cell_type": "code",
      "source": [
        "\n",
        "\n",
        "\n",
        "num = float(input(\"Enter a number: \"))\n",
        "\n",
        "if num > 0:\n",
        "    print(\"The number is positive.\")\n",
        "elif num < 0:\n",
        "    print(\"The number is negative.\")\n",
        "else:\n",
        "    print(\"The number is zero.\")\n"
      ],
      "metadata": {
        "colab": {
          "base_uri": "https://localhost:8080/"
        },
        "id": "cJS3QA5Jxwsu",
        "outputId": "070f623a-e93e-47a2-b299-589001184b82"
      },
      "execution_count": 4,
      "outputs": [
        {
          "output_type": "stream",
          "name": "stdout",
          "text": [
            "Enter a number: 34\n",
            "The number is positive.\n"
          ]
        }
      ]
    },
    {
      "cell_type": "markdown",
      "source": [
        "12.  Write a for loop to print numbers from 1 to 10 ?"
      ],
      "metadata": {
        "id": "6Z4o11ZUyA0a"
      }
    },
    {
      "cell_type": "code",
      "source": [
        "\n",
        "\n",
        "for i in range(1, 11):\n",
        "    print(i)\n"
      ],
      "metadata": {
        "colab": {
          "base_uri": "https://localhost:8080/"
        },
        "id": "9ZsM8v9pyZB5",
        "outputId": "542feb60-e1a8-4a26-d018-223da51e1c8f"
      },
      "execution_count": 5,
      "outputs": [
        {
          "output_type": "stream",
          "name": "stdout",
          "text": [
            "1\n",
            "2\n",
            "3\n",
            "4\n",
            "5\n",
            "6\n",
            "7\n",
            "8\n",
            "9\n",
            "10\n"
          ]
        }
      ]
    },
    {
      "cell_type": "markdown",
      "source": [
        "13.  Write a Python program to find the sum of all even numbers between 1 and 50 ?"
      ],
      "metadata": {
        "id": "8624qkMPyjUS"
      }
    },
    {
      "cell_type": "code",
      "source": [
        "\n",
        "\n",
        "total = 0\n",
        "for number in range(2, 51, 2):\n",
        "    total += number\n",
        "\n",
        "print(\"Sum of all even numbers from 1 to 50:\", total)\n"
      ],
      "metadata": {
        "colab": {
          "base_uri": "https://localhost:8080/"
        },
        "id": "KX5OmtHWysao",
        "outputId": "b8adb096-e50d-43b8-e915-e7e3ba3a0c57"
      },
      "execution_count": 6,
      "outputs": [
        {
          "output_type": "stream",
          "name": "stdout",
          "text": [
            "Sum of all even numbers from 1 to 50: 650\n"
          ]
        }
      ]
    },
    {
      "cell_type": "markdown",
      "source": [
        "14.  Write a program to reverse a string using a while loop ?"
      ],
      "metadata": {
        "id": "c4ZokxDFy4-G"
      }
    },
    {
      "cell_type": "code",
      "source": [
        "\n",
        "\n",
        "input_string = input(\"Enter a string: \")\n",
        "reversed_string = ''\n",
        "index = len(input_string) - 1\n",
        "\n",
        "while index >= 0:\n",
        "    reversed_string += input_string[index]\n",
        "    index -= 1\n",
        "\n",
        "print(\"Reversed string:\", reversed_string)\n"
      ],
      "metadata": {
        "colab": {
          "base_uri": "https://localhost:8080/"
        },
        "id": "Ld0I9FmNzBTW",
        "outputId": "a9441da0-512c-42e4-eae8-c6cc6e470b43"
      },
      "execution_count": 7,
      "outputs": [
        {
          "output_type": "stream",
          "name": "stdout",
          "text": [
            "Enter a string: navneet\n",
            "Reversed string: teenvan\n"
          ]
        }
      ]
    },
    {
      "cell_type": "markdown",
      "source": [
        "15.  Write a Python program to calculate the factorial of a number provided by the user using a while loop ?"
      ],
      "metadata": {
        "id": "OeBJTymazNAN"
      }
    },
    {
      "cell_type": "code",
      "source": [
        "\n",
        "\n",
        "num = int(input(\"Enter a non-negative integer: \"))\n",
        "\n",
        "if num < 0:\n",
        "    print(\"Factorial is not defined for negative numbers.\")\n",
        "else:\n",
        "    factorial = 1\n",
        "    i = 1\n",
        "    while i <= num:\n",
        "        factorial *= i\n",
        "        i += 1\n",
        "    print(f\"The factorial of {num} is {factorial}.\")\n"
      ],
      "metadata": {
        "colab": {
          "base_uri": "https://localhost:8080/"
        },
        "id": "ODKGA28qzX16",
        "outputId": "dc41da60-9540-437a-a3dd-e9836c983168"
      },
      "execution_count": 8,
      "outputs": [
        {
          "output_type": "stream",
          "name": "stdout",
          "text": [
            "Enter a non-negative integer: 45\n",
            "The factorial of 45 is 119622220865480194561963161495657715064383733760000000000.\n"
          ]
        }
      ]
    },
    {
      "cell_type": "code",
      "source": [],
      "metadata": {
        "id": "ieAwPjhBzdY9"
      },
      "execution_count": null,
      "outputs": []
    }
  ]
}